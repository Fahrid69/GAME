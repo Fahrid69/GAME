{
 "cells": [
  {
   "cell_type": "markdown",
   "id": "82a1ecbb",
   "metadata": {},
   "source": [
    "# MISSING:\n"
   ]
  },
  {
   "cell_type": "code",
   "execution_count": null,
   "id": "5f31cde4",
   "metadata": {},
   "outputs": [],
   "source": [
    "# - Reescribir el código en funciones para que quede mas organizado.\n",
    "# - Corregir muchos errores de tipos y errores de lógica.\n",
    "# - Añadir un sistema de puntuación.\n",
    "# - Añadir un sistema de vidas correcto.\n",
    "# - Terminar de implementar el nuevo sistema de carga de sonidos totalmente.\n",
    "\n",
    "# - Terminar el background\n",
    "# - Agregar tableros respectivos a vidas, puntos,...\n",
    "# - Añadir muerrte para MM\n",
    "# - Mejorar las colisiones en crash.py\n",
    "# - Añadir mas colisiones a crash.py\n",
    "# - AGRUPAR LAS COLISIONES A UNA NUEVA CLASE COLLIDE"
   ]
  },
  {
   "cell_type": "markdown",
   "id": "b3180624",
   "metadata": {},
   "source": [
    "## CAMBIOS:\n"
   ]
  },
  {
   "cell_type": "code",
   "execution_count": null,
   "id": "960976a3",
   "metadata": {},
   "outputs": [],
   "source": [
    "\"\"\"\n",
    "post-avances(3.03): el orden de los factores no altera el producto \n",
    "post-avances(3.04): -\n",
    "    Condicionamiento correcto de algunos if\n",
    "    Se empezo la clase Items\n",
    "        Se añadio la moneda\n",
    "    Se optimizó algunos condiciones de colisiones\n",
    "\n",
    "\"\"\""
   ]
  }
 ],
 "metadata": {
  "kernelspec": {
   "display_name": "Python 3",
   "language": "python",
   "name": "python3"
  },
  "language_info": {
   "name": "python",
   "version": "3.13.3"
  }
 },
 "nbformat": 4,
 "nbformat_minor": 5
}
