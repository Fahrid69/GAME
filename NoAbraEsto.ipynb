{
 "cells": [
  {
   "cell_type": "markdown",
   "id": "82a1ecbb",
   "metadata": {},
   "source": [
    "# MISSING:\n"
   ]
  },
  {
   "cell_type": "code",
   "execution_count": null,
   "id": "5f31cde4",
   "metadata": {},
   "outputs": [],
   "source": [
    "# - Agregarle background\n",
    "# - Agregar tableros respectivos a vidas, puntos,...\n",
    "# - Añadir muerrte para MM\n",
    "# - Mejorar las colisiones en crash.py\n",
    "# - Añadir mas colisiones a crash.py\n",
    "# - AGRUPAR LAS COLISIONES A UNA NUEVA CLASE COLLIDE"
   ]
  },
  {
   "cell_type": "markdown",
   "id": "b3180624",
   "metadata": {},
   "source": [
    "## CAMBIOS:\n"
   ]
  }
 ],
 "metadata": {
  "kernelspec": {
   "display_name": "Python 3",
   "language": "python",
   "name": "python3"
  },
  "language_info": {
   "name": "python",
   "version": "3.13.3"
  }
 },
 "nbformat": 4,
 "nbformat_minor": 5
}
