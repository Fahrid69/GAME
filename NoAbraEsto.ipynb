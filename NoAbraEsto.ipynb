{
 "cells": [
  {
   "cell_type": "markdown",
   "id": "82a1ecbb",
   "metadata": {},
   "source": [
    "# MISSING:"
   ]
  },
  {
   "cell_type": "code",
   "execution_count": null,
   "id": "5f31cde4",
   "metadata": {},
   "outputs": [],
   "source": [
    "# - Mejorar el espacio del juego\n",
    "# - Importar tipos de letras\n",
    "# - Implementar la aparición de la clase poderes\n",
    "# - Implementar las colisiones en Crash.py\n",
    "# - Actualizar al scrolling sin morir en el intento\n",
    "# - Sprite para nuevo enemy Koopa Troopa"
   ]
  },
  {
   "cell_type": "markdown",
   "id": "b3180624",
   "metadata": {},
   "source": [
    "## CAMBIOS:\n"
   ]
  }
 ],
 "metadata": {
  "kernelspec": {
   "display_name": "Python 3",
   "language": "python",
   "name": "python3"
  },
  "language_info": {
   "name": "python",
   "version": "3.13.3"
  }
 },
 "nbformat": 4,
 "nbformat_minor": 5
}
